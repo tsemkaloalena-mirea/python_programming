{
  "nbformat": 4,
  "nbformat_minor": 0,
  "metadata": {
    "colab": {
      "name": "homeworks.ipynb",
      "provenance": [],
      "collapsed_sections": [],
      "authorship_tag": "ABX9TyOol+4nZcQTtbTp56tl2Zqi",
      "include_colab_link": true
    },
    "kernelspec": {
      "name": "python3",
      "display_name": "Python 3"
    },
    "language_info": {
      "name": "python"
    }
  },
  "cells": [
    {
      "cell_type": "markdown",
      "metadata": {
        "id": "view-in-github",
        "colab_type": "text"
      },
      "source": [
        "<a href=\"https://colab.research.google.com/github/tsemkaloalena-mirea/python_programming/blob/main/homeworks.ipynb\" target=\"_parent\"><img src=\"https://colab.research.google.com/assets/colab-badge.svg\" alt=\"Open In Colab\"/></a>"
      ]
    },
    {
      "cell_type": "code",
      "execution_count": null,
      "metadata": {
        "id": "yV6zjx6WGYOv"
      },
      "outputs": [],
      "source": [
        "import math\n",
        "\n",
        "//1\n",
        "def main(x, y, z):\n",
        "    a = 34 * (math.sin(92 * y - 14 * z ** 3 - 28 * y ** 2)) ** 7\n",
        "    b = 50 * ((66 * x ** 3 + 0.01 + z) ** 2)\n",
        "    c = x ** 6 + 69 * math.tan(y ** 2 - 1 - 92 * z ** 3)\n",
        "    d = 57 * (1 + 25 * y ** 3) ** 3\n",
        "    e = math.log(43 * x ** 2 - z / 32 - z ** 3, 2) ** 4\n",
        "    return a - b - c / (d - e)"
      ]
    },
    {
      "cell_type": "code",
      "source": [
        "def main(x): // 2\n",
        "    if x < 109:\n",
        "        return x ** 4\n",
        "    if 109 <= x < 143:\n",
        "        return 18 * (12 * x) ** 3 - x ** 6\n",
        "    a = (math.sin(74 * x ** 2 + 25 * x)) ** 7\n",
        "    return a / 9 + (math.cos(x)) ** 2 / 34 + math.log(x, 2)"
      ],
      "metadata": {
        "id": "S3k9cLqqHLrV"
      },
      "execution_count": null,
      "outputs": []
    },
    {
      "cell_type": "code",
      "source": [
        "def main(b, m, a): // 3\n",
        "    s = 0\n",
        "    for c in range(1, a + 1):\n",
        "        for j in range(1, m + 1):\n",
        "            for k in range(1, b + 1):\n",
        "                s += 34 * (math.tan(j)) ** 3 - 92 * (c ** 2 - k ** 3 - 1)\n",
        "    return s"
      ],
      "metadata": {
        "id": "sg59QX08HZcp"
      },
      "execution_count": null,
      "outputs": []
    },
    {
      "cell_type": "code",
      "source": [
        "def f(n): // 4\n",
        "    if n == 0:\n",
        "        return 0.67\n",
        "    a = f(n - 1)\n",
        "    return a ** 2 / 46 - math.atan(1 + a ** 3 + 87 * a) ** 3 - math.fabs(a)\n",
        "\n",
        "\n",
        "def main(n):\n",
        "    return f(n)"
      ],
      "metadata": {
        "id": "bewkiHAnHsHH"
      },
      "execution_count": null,
      "outputs": []
    },
    {
      "cell_type": "code",
      "source": [
        "def main(x): // 5\n",
        "    s = 0\n",
        "    for i in range(len(x)):\n",
        "        s += 35 * (63 * x[i] + 31 + x[i] ** 2) ** 3\n",
        "    return 78 * s"
      ],
      "metadata": {
        "id": "pJFsBTlLH1Xu"
      },
      "execution_count": null,
      "outputs": []
    },
    {
      "cell_type": "code",
      "source": [
        "class Node: // 6\n",
        "    def __init__(self, branch=\"\", value=-1, x_num=-1):\n",
        "        self.branch = branch\n",
        "        self.value = value\n",
        "        self.x_num = x_num\n",
        "        self.nodes = []\n",
        "\n",
        "    def add_node(self, branch=\"\", value=-1, x_num=-1):\n",
        "        self.nodes.append(Node(branch, value, x_num))\n",
        "\n",
        "\n",
        "def create_tree(root):\n",
        "    root.x_num = 4\n",
        "    root.add_node(branch=\"LEX\", x_num=1)\n",
        "    root.nodes[0].add_node(branch=\"XBASE\", x_num=2)\n",
        "    root.nodes[0].nodes[0].add_node(branch=\"LOGOS\", x_num=0)\n",
        "    root.nodes[0].nodes[0].nodes[0].add_node(branch=\"GENIE\", value=0)\n",
        "    root.nodes[0].nodes[0].nodes[0].add_node(branch=\"STON\", value=1)\n",
        "    root.nodes[0].nodes[0].add_node(branch=\"VHDL\", value=2)\n",
        "    root.nodes[0].nodes[0].add_node(branch=\"POD\", value=3)\n",
        "    root.nodes[0].add_node(branch=\"ASN.1\", x_num=3)\n",
        "    root.nodes[0].nodes[1].add_node(branch=\"OPA\", x_num=0)\n",
        "    root.nodes[0].nodes[1].nodes[0].add_node(branch=\"GENIE\", value=4)\n",
        "    root.nodes[0].nodes[1].nodes[0].add_node(branch=\"STON\", value=5)\n",
        "    root.nodes[0].nodes[1].add_node(branch=\"QML\", value=6)\n",
        "    root.nodes[0].nodes[1].add_node(branch=\"MQL5\", value=7)\n",
        "    root.add_node(branch=\"AWK\", value=8)\n",
        "    root.add_node(branch=\"FISH\", x_num=3)\n",
        "    root.nodes[2].add_node(branch=\"OPA\", value=9)\n",
        "    root.nodes[2].add_node(branch=\"QML\", value=10)\n",
        "    root.nodes[2].add_node(branch=\"MQL5\", value=11)\n",
        "\n",
        "\n",
        "def count_tree(node, x):\n",
        "    if node.x_num != -1:\n",
        "        for next_node in node.nodes:\n",
        "            if next_node.branch == x[node.x_num]:\n",
        "                return count_tree(next_node, x)\n",
        "    else:\n",
        "        return node.value\n",
        "\n",
        "\n",
        "def main(x):\n",
        "    root = Node()\n",
        "    create_tree(root)\n",
        "    return count_tree(root, x)"
      ],
      "metadata": {
        "id": "fu3wCG2rH4iz"
      },
      "execution_count": null,
      "outputs": []
    },
    {
      "cell_type": "code",
      "source": [
        "def main(x): // 7\n",
        "    mask_a = 0x00000003\n",
        "    mask_b = 0x0000003c\n",
        "    mask_c = 0x00001fc0\n",
        "    mask_d = 0x000fe000\n",
        "    mask_e = 0x00300000\n",
        "    mask_f = 0x7fc00000\n",
        "    mask_g = 0x80000000\n",
        "\n",
        "    a = x & mask_a\n",
        "    b = x & mask_b\n",
        "    c = x & mask_c\n",
        "    d = x & mask_d\n",
        "    e = x & mask_e\n",
        "    f = x & mask_f\n",
        "    g = x & mask_g\n",
        "\n",
        "    a = a << 16\n",
        "    b = b << 17\n",
        "    c = c << 3\n",
        "    d = d >> 13\n",
        "    e = e >> 13\n",
        "    f = f << 1\n",
        "    g = g >> 13\n",
        "\n",
        "    return a | b | c | d | e | f | g"
      ],
      "metadata": {
        "id": "Jm-U7dHTH4xf"
      },
      "execution_count": null,
      "outputs": []
    },
    {
      "cell_type": "code",
      "source": [
        "def main(data): // 8\n",
        "    data = data.replace(\"\\n\", \" \")\n",
        "    data = data.lstrip(\"do do local array\")\n",
        "    data = data.strip('od end').strip().strip('.')\n",
        "    data = data.split(\". od do local array\")\n",
        "    dictionary = {}\n",
        "    for line in data:\n",
        "        values, key = line.split(\"=>\")\n",
        "        values = values.strip()\n",
        "        values = values.lstrip(\"(\")\n",
        "        values = values.rstrip(\")\")\n",
        "        values = values.split(\";\")\n",
        "        values = list(map(lambda x: int(x.strip()), values))\n",
        "        key = key.strip()\n",
        "        dictionary[key] = values\n",
        "    return dictionary"
      ],
      "metadata": {
        "id": "SK-vXOVUH49V"
      },
      "execution_count": null,
      "outputs": []
    },
    {
      "cell_type": "code",
      "source": [
        "class MileMachine: // 9\n",
        "    def __init__(self):\n",
        "        self.ways = {\"A\": {\"glare\": (0, \"B\")},\n",
        "                     \"B\": {\"show\": (1, \"C\"),\n",
        "                           \"glare\": (3, \"E\"), \"bend\": (2, \"F\")},\n",
        "                     \"C\": {\"bend\": (4, \"D\")},\n",
        "                     \"D\": {\"glare\": (5, \"E\")},\n",
        "                     \"E\": {\"show\": (6, \"F\")},\n",
        "                     \"F\": {\"glare\": (7, \"F\"), \"show\": (8, \"A\")}}\n",
        "        self.current = \"A\"\n",
        "\n",
        "    def move(self, method):\n",
        "        number = self.ways[self.current][method][0]\n",
        "        self.current = self.ways[self.current][method][1]\n",
        "        return number\n",
        "\n",
        "    def glare(self):\n",
        "        return self.move(\"glare\")\n",
        "\n",
        "    def show(self):\n",
        "        return self.move(\"show\")\n",
        "\n",
        "    def bend(self):\n",
        "        return self.move(\"bend\")\n",
        "\n",
        "\n",
        "def main():\n",
        "    return MileMachine()"
      ],
      "metadata": {
        "id": "7tgRSNR1IXwa"
      },
      "execution_count": null,
      "outputs": []
    }
  ]
}