{
  "nbformat": 4,
  "nbformat_minor": 0,
  "metadata": {
    "colab": {
      "name": "homeworks.ipynb",
      "provenance": [],
      "authorship_tag": "ABX9TyMLdecm49WvE5iI4V2Unzxy",
      "include_colab_link": true
    },
    "kernelspec": {
      "name": "python3",
      "display_name": "Python 3"
    },
    "language_info": {
      "name": "python"
    }
  },
  "cells": [
    {
      "cell_type": "markdown",
      "metadata": {
        "id": "view-in-github",
        "colab_type": "text"
      },
      "source": [
        "<a href=\"https://colab.research.google.com/github/tsemkaloalena-mirea/python_programming/blob/main/homeworks.ipynb\" target=\"_parent\"><img src=\"https://colab.research.google.com/assets/colab-badge.svg\" alt=\"Open In Colab\"/></a>"
      ]
    },
    {
      "cell_type": "code",
      "execution_count": null,
      "metadata": {
        "id": "yV6zjx6WGYOv"
      },
      "outputs": [],
      "source": [
        "import math\n",
        "\n",
        "\n",
        "def main(x, y, z):\n",
        "    a = 34 * (math.sin(92 * y - 14 * z ** 3 - 28 * y ** 2)) ** 7\n",
        "    b = 50 * ((66 * x ** 3 + 0.01 + z) ** 2)\n",
        "    c = x ** 6 + 69 * math.tan(y ** 2 - 1 - 92 * z ** 3)\n",
        "    d = 57 * (1 + 25 * y ** 3) ** 3\n",
        "    e = math.log(43 * x ** 2 - z / 32 - z ** 3, 2) ** 4\n",
        "    return a - b - c / (d - e)"
      ]
    },
    {
      "cell_type": "code",
      "source": [
        "import math\n",
        "\n",
        "\n",
        "def main(x):\n",
        "    if x < 109:\n",
        "        return x ** 4\n",
        "    if 109 <= x < 143:\n",
        "        return 18 * (12 * x) ** 3 - x ** 6\n",
        "    a = (math.sin(74 * x ** 2 + 25 * x)) ** 7\n",
        "    return a / 9 + (math.cos(x)) ** 2 / 34 + math.log(x, 2)"
      ],
      "metadata": {
        "id": "S3k9cLqqHLrV"
      },
      "execution_count": null,
      "outputs": []
    },
    {
      "cell_type": "code",
      "source": [
        ""
      ],
      "metadata": {
        "id": "sg59QX08HZcp"
      },
      "execution_count": null,
      "outputs": []
    }
  ]
}